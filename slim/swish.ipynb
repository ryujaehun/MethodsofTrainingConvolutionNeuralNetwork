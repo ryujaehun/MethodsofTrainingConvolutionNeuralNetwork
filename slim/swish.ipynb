{
 "cells": [
  {
   "cell_type": "code",
   "execution_count": 1,
   "metadata": {},
   "outputs": [
    {
     "name": "stdout",
     "output_type": "stream",
     "text": [
      "Using matplotlib backend: TkAgg\n",
      "Populating the interactive namespace from numpy and matplotlib\n"
     ]
    }
   ],
   "source": [
    "import tensorflow as tf\n",
    "from __future__ import absolute_import\n",
    "from __future__ import division\n",
    "from __future__ import print_function\n",
    "%pylab\n",
    "%matplotlib inline"
   ]
  },
  {
   "cell_type": "code",
   "execution_count": 2,
   "metadata": {},
   "outputs": [],
   "source": [
    "from tensorflow.python.framework import ops\n",
    "from tensorflow.python.ops import math_ops\n",
    "def swish(features):\n",
    "  # pylint: disable=g-doc-args\n",
    "  \"\"\"Computes the Swish activation function: `x * sigmoid(x)`.\n",
    "  Source: \"Searching for Activation Functions\" (Ramachandran et al. 2017)\n",
    "  https://arxiv.org/abs/1710.05941\n",
    "  Args:\n",
    "    features: A `Tensor` representing preactivation values.\n",
    "    name: A name for the operation (optional).\n",
    "  Returns:\n",
    "    The activation value.\n",
    "  \"\"\"\n",
    "  # pylint: enable=g-doc-args\n",
    "  features = ops.convert_to_tensor(features, name=\"features\")\n",
    "  return features * math_ops.sigmoid(features)"
   ]
  },
  {
   "cell_type": "code",
   "execution_count": 3,
   "metadata": {},
   "outputs": [],
   "source": [
    "# 위에설명이 나와있지만 입력이 784x10000 이며 10개로 softmax분류를 한다.\n",
    "x_input = tf.placeholder(tf.float32, [None, 784])"
   ]
  },
  {
   "cell_type": "code",
   "execution_count": 4,
   "metadata": {},
   "outputs": [
    {
     "name": "stdout",
     "output_type": "stream",
     "text": [
      "WARNING:tensorflow:From /usr/local/lib/python3.5/dist-packages/tensorflow/python/ops/nn_impl.py:666: calling reduce_mean (from tensorflow.python.ops.math_ops) with keep_dims is deprecated and will be removed in a future version.\n",
      "Instructions for updating:\n",
      "keep_dims is deprecated, use keepdims instead\n"
     ]
    }
   ],
   "source": [
    "def batch_norm(x):\n",
    "\tepsilon = 1e-3\n",
    "\tbatch_mean, batch_var = tf.nn.moments(x, [0])\n",
    "\treturn tf.nn.batch_normalization(x, batch_mean, batch_var, None, None, epsilon)\n",
    "\n",
    "W_1=tf.Variable(tf.truncated_normal([784,392],stddev=0.01),name='weight1')\n",
    "B_1=tf.Variable(tf.constant(1.0,shape=[392]),name='bias1')\n",
    "layer1=tf.nn.elu(tf.matmul(x_input,W_1)+B_1)\n",
    "\n",
    "W_2=tf.Variable(tf.truncated_normal([392,196],stddev=0.01),name='weight2')\n",
    "B_2=tf.Variable(tf.constant(1.0,shape=[196]),name='bias2')\n",
    "layer1=batch_norm(layer1)\n",
    "layer2=tf.nn.elu(tf.matmul(layer1,W_2)+B_2)\n",
    "\n",
    "W_3=tf.Variable(tf.truncated_normal([196,98],stddev=0.01),name='weight3')\n",
    "B_3=tf.Variable(tf.constant(1.0,shape=[98]),name='bias3')\n",
    "layer2=batch_norm(layer2)\n",
    "layer3=tf.nn.elu(tf.matmul(layer2,W_3)+B_3)"
   ]
  },
  {
   "cell_type": "code",
   "execution_count": 5,
   "metadata": {},
   "outputs": [],
   "source": [
    "with tf.device('/gpu:0'):\n",
    "    W = tf.Variable(tf.truncated_normal([98, 10],stddev=0.1),name='fcwWeight')\n",
    "    b = tf.Variable(tf.truncated_normal([10],stddev=0.1),name='fcBias')\n",
    "    y=tf.nn.softmax(tf.matmul(layer3,W)+b)\n",
    "    y_=tf.placeholder(tf.float32,[None,10])\n",
    "    \n",
    "\n",
    "    cost=tf.reduce_mean(-tf.reduce_sum(y_*tf.log(y),reduction_indices=[1]))\n",
    "    cost_summ = tf.summary.scalar(\"cost\", cost)\n",
    "\n",
    "    train_step=tf.train.AdamOptimizer(0.0001).minimize(cost)\n",
    "\n",
    "    sess=tf.InteractiveSession()\n"
   ]
  },
  {
   "cell_type": "code",
   "execution_count": 6,
   "metadata": {},
   "outputs": [],
   "source": [
    "tf.global_variables_initializer().run()"
   ]
  },
  {
   "cell_type": "code",
   "execution_count": 7,
   "metadata": {},
   "outputs": [
    {
     "name": "stdout",
     "output_type": "stream",
     "text": [
      "Extracting MNIST_data/train-images-idx3-ubyte.gz\n",
      "Extracting MNIST_data/train-labels-idx1-ubyte.gz\n",
      "Extracting MNIST_data/t10k-images-idx3-ubyte.gz\n",
      "Extracting MNIST_data/t10k-labels-idx1-ubyte.gz\n"
     ]
    }
   ],
   "source": [
    "from tensorflow.examples.tutorials.mnist import input_data\n",
    "mnist = input_data.read_data_sets(\"MNIST_data/\", one_hot=True)"
   ]
  },
  {
   "cell_type": "code",
   "execution_count": 8,
   "metadata": {},
   "outputs": [],
   "source": [
    "for _ in range(10000):\n",
    "    batch_xs, batch_ys = mnist.train.next_batch(100)\n",
    "    sess.run(train_step, feed_dict={x_input: batch_xs, y_: batch_ys})\n"
   ]
  },
  {
   "cell_type": "code",
   "execution_count": 9,
   "metadata": {},
   "outputs": [
    {
     "name": "stdout",
     "output_type": "stream",
     "text": [
      "accuracy: 0.9575\n"
     ]
    }
   ],
   "source": [
    "correct_prediction = tf.equal(tf.argmax(y,1), tf.argmax(y_,1))\n",
    "accuracy = tf.reduce_mean(tf.cast(correct_prediction, tf.float32))\n",
    "\n",
    "print(\"accuracy:\",sess.run(accuracy, feed_dict={x_input: mnist.test.images, y_: mnist.test.labels}))"
   ]
  },
  {
   "cell_type": "code",
   "execution_count": null,
   "metadata": {},
   "outputs": [],
   "source": []
  }
 ],
 "metadata": {
  "kernelspec": {
   "display_name": "Python 3",
   "language": "python",
   "name": "python3"
  },
  "language_info": {
   "codemirror_mode": {
    "name": "ipython",
    "version": 3
   },
   "file_extension": ".py",
   "mimetype": "text/x-python",
   "name": "python",
   "nbconvert_exporter": "python",
   "pygments_lexer": "ipython3",
   "version": "3.5.2"
  }
 },
 "nbformat": 4,
 "nbformat_minor": 2
}
